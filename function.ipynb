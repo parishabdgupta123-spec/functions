{
  "nbformat": 4,
  "nbformat_minor": 0,
  "metadata": {
    "colab": {
      "provenance": []
    },
    "kernelspec": {
      "name": "python3",
      "display_name": "Python 3"
    },
    "language_info": {
      "name": "python"
    }
  },
  "cells": [
    {
      "cell_type": "code",
      "execution_count": null,
      "metadata": {
        "id": "8KqBn_3l6dXB"
      },
      "outputs": [],
      "source": []
    },
    {
      "cell_type": "markdown",
      "source": [
        "# function"
      ],
      "metadata": {
        "id": "ef4ma7406sT-"
      }
    },
    {
      "cell_type": "code",
      "source": [],
      "metadata": {
        "id": "yTI1h7IE6v9M"
      },
      "execution_count": null,
      "outputs": []
    },
    {
      "cell_type": "markdown",
      "source": [
        "1 what is pari\n",
        " - pari is good bitch"
      ],
      "metadata": {
        "id": "KndpGgct6xAB"
      }
    },
    {
      "cell_type": "code",
      "source": [],
      "metadata": {
        "id": "j9-UoE7z6zU0"
      },
      "execution_count": null,
      "outputs": []
    }
  ]
}